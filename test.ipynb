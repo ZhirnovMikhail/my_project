{
 "cells": [
  {
   "cell_type": "code",
   "execution_count": 1,
   "metadata": {},
   "outputs": [],
   "source": [
    "import pandas as pd\n",
    "import numpy as np"
   ]
  },
  {
   "cell_type": "code",
   "execution_count": 2,
   "metadata": {},
   "outputs": [],
   "source": [
    "# ПОСЛЕДНИЙ МЕСЯЦ\n",
    "# 16.06.2019\n",
    "# from datetime import datetime\n",
    "# from dateutil import relativedelta\n",
    "# date1 = datetime.date.today()\n",
    "# orders = pd.read_csv('orders.csv')\n",
    "# orderLines = pd.read_csv('orderLines.csv')\n",
    "# months = []\n",
    "# for i in range(len(orders)):\n",
    "#     date2 = datetime.strptime(str(orders.loc[i, 'DateTime']), '%d.%m.%Y')\n",
    "#     months.append(relativedelta.relativedelta(date2, date1))\n",
    "# orders['months'] = months\n",
    "# orders = orders.loc[orders.months <= 1]\n",
    "# ind = orders.index\n",
    "# orderLines = orderLines.loc[ind]"
   ]
  },
  {
   "cell_type": "markdown",
   "metadata": {},
   "source": [
    "### Искусственные данные ORDERS"
   ]
  },
  {
   "cell_type": "code",
   "execution_count": 3,
   "metadata": {},
   "outputs": [
    {
     "data": {
      "text/html": [
       "<div>\n",
       "<style scoped>\n",
       "    .dataframe tbody tr th:only-of-type {\n",
       "        vertical-align: middle;\n",
       "    }\n",
       "\n",
       "    .dataframe tbody tr th {\n",
       "        vertical-align: top;\n",
       "    }\n",
       "\n",
       "    .dataframe thead th {\n",
       "        text-align: right;\n",
       "    }\n",
       "</style>\n",
       "<table border=\"1\" class=\"dataframe\">\n",
       "  <thead>\n",
       "    <tr style=\"text-align: right;\">\n",
       "      <th></th>\n",
       "      <th>DateTime</th>\n",
       "      <th>CustomerID</th>\n",
       "      <th>OrderID</th>\n",
       "    </tr>\n",
       "  </thead>\n",
       "  <tbody>\n",
       "    <tr>\n",
       "      <th>0</th>\n",
       "      <td>1</td>\n",
       "      <td>11.0</td>\n",
       "      <td>2394.0</td>\n",
       "    </tr>\n",
       "    <tr>\n",
       "      <th>1</th>\n",
       "      <td>2</td>\n",
       "      <td>7.0</td>\n",
       "      <td>149.0</td>\n",
       "    </tr>\n",
       "    <tr>\n",
       "      <th>2</th>\n",
       "      <td>3</td>\n",
       "      <td>18.0</td>\n",
       "      <td>284.0</td>\n",
       "    </tr>\n",
       "    <tr>\n",
       "      <th>3</th>\n",
       "      <td>4</td>\n",
       "      <td>17.0</td>\n",
       "      <td>3431.0</td>\n",
       "    </tr>\n",
       "    <tr>\n",
       "      <th>4</th>\n",
       "      <td>5</td>\n",
       "      <td>7.0</td>\n",
       "      <td>2493.0</td>\n",
       "    </tr>\n",
       "  </tbody>\n",
       "</table>\n",
       "</div>"
      ],
      "text/plain": [
       "   DateTime  CustomerID  OrderID\n",
       "0         1        11.0   2394.0\n",
       "1         2         7.0    149.0\n",
       "2         3        18.0    284.0\n",
       "3         4        17.0   3431.0\n",
       "4         5         7.0   2493.0"
      ]
     },
     "execution_count": 3,
     "metadata": {},
     "output_type": "execute_result"
    }
   ],
   "source": [
    "# СТРОИМ ПРИМЕРНЫЕ ORDERS\n",
    "orders = pd.DataFrame()\n",
    "orders['DateTime'] = pd.Series(np.arange(100)+1)\n",
    "orders['CustomerID'] = pd.Series(np.round(np.random.rand(100)*20))\n",
    "orders['OrderID'] = pd.Series(np.round(np.random.rand(100)*10000))\n",
    "orders.head()"
   ]
  },
  {
   "cell_type": "markdown",
   "metadata": {},
   "source": [
    "### Искусственные данные ORDERLINES"
   ]
  },
  {
   "cell_type": "code",
   "execution_count": 5,
   "metadata": {},
   "outputs": [
    {
     "data": {
      "text/html": [
       "<div>\n",
       "<style scoped>\n",
       "    .dataframe tbody tr th:only-of-type {\n",
       "        vertical-align: middle;\n",
       "    }\n",
       "\n",
       "    .dataframe tbody tr th {\n",
       "        vertical-align: top;\n",
       "    }\n",
       "\n",
       "    .dataframe thead th {\n",
       "        text-align: right;\n",
       "    }\n",
       "</style>\n",
       "<table border=\"1\" class=\"dataframe\">\n",
       "  <thead>\n",
       "    <tr style=\"text-align: right;\">\n",
       "      <th></th>\n",
       "      <th>OrderID</th>\n",
       "      <th>ProductID</th>\n",
       "      <th>Price</th>\n",
       "    </tr>\n",
       "  </thead>\n",
       "  <tbody>\n",
       "    <tr>\n",
       "      <th>0</th>\n",
       "      <td>2394.0</td>\n",
       "      <td>16.0</td>\n",
       "      <td>160.0</td>\n",
       "    </tr>\n",
       "    <tr>\n",
       "      <th>1</th>\n",
       "      <td>149.0</td>\n",
       "      <td>15.0</td>\n",
       "      <td>150.0</td>\n",
       "    </tr>\n",
       "    <tr>\n",
       "      <th>2</th>\n",
       "      <td>284.0</td>\n",
       "      <td>17.0</td>\n",
       "      <td>170.0</td>\n",
       "    </tr>\n",
       "    <tr>\n",
       "      <th>3</th>\n",
       "      <td>3431.0</td>\n",
       "      <td>6.0</td>\n",
       "      <td>60.0</td>\n",
       "    </tr>\n",
       "    <tr>\n",
       "      <th>4</th>\n",
       "      <td>2493.0</td>\n",
       "      <td>19.0</td>\n",
       "      <td>190.0</td>\n",
       "    </tr>\n",
       "  </tbody>\n",
       "</table>\n",
       "</div>"
      ],
      "text/plain": [
       "   OrderID  ProductID  Price\n",
       "0   2394.0       16.0  160.0\n",
       "1    149.0       15.0  150.0\n",
       "2    284.0       17.0  170.0\n",
       "3   3431.0        6.0   60.0\n",
       "4   2493.0       19.0  190.0"
      ]
     },
     "execution_count": 5,
     "metadata": {},
     "output_type": "execute_result"
    }
   ],
   "source": [
    "# СТРОИМ ПРИМЕРНЫЕ ORDERLINES\n",
    "orderLines = pd.DataFrame()\n",
    "orderLines['OrderID'] = orders['OrderID']\n",
    "orderLines['ProductID'] = pd.Series(np.round(np.random.rand(100)*20))\n",
    "orderLines['Price'] = orderLines['ProductID']*10\n",
    "orderLines.head()"
   ]
  },
  {
   "cell_type": "markdown",
   "metadata": {},
   "source": [
    "### Отчет"
   ]
  },
  {
   "cell_type": "code",
   "execution_count": 10,
   "metadata": {
    "scrolled": true
   },
   "outputs": [
    {
     "data": {
      "text/html": [
       "<div>\n",
       "<style scoped>\n",
       "    .dataframe tbody tr th:only-of-type {\n",
       "        vertical-align: middle;\n",
       "    }\n",
       "\n",
       "    .dataframe tbody tr th {\n",
       "        vertical-align: top;\n",
       "    }\n",
       "\n",
       "    .dataframe thead th {\n",
       "        text-align: right;\n",
       "    }\n",
       "</style>\n",
       "<table border=\"1\" class=\"dataframe\">\n",
       "  <thead>\n",
       "    <tr style=\"text-align: right;\">\n",
       "      <th></th>\n",
       "      <th>most_popular_products_id</th>\n",
       "      <th>total_value</th>\n",
       "      <th>mean_value_for_order</th>\n",
       "    </tr>\n",
       "  </thead>\n",
       "  <tbody>\n",
       "    <tr>\n",
       "      <th>0</th>\n",
       "      <td>9.0</td>\n",
       "      <td>810.0</td>\n",
       "      <td>90.0</td>\n",
       "    </tr>\n",
       "    <tr>\n",
       "      <th>1</th>\n",
       "      <td>12.0</td>\n",
       "      <td>1080.0</td>\n",
       "      <td>120.0</td>\n",
       "    </tr>\n",
       "    <tr>\n",
       "      <th>2</th>\n",
       "      <td>10.0</td>\n",
       "      <td>800.0</td>\n",
       "      <td>100.0</td>\n",
       "    </tr>\n",
       "    <tr>\n",
       "      <th>3</th>\n",
       "      <td>15.0</td>\n",
       "      <td>1050.0</td>\n",
       "      <td>150.0</td>\n",
       "    </tr>\n",
       "    <tr>\n",
       "      <th>4</th>\n",
       "      <td>18.0</td>\n",
       "      <td>1260.0</td>\n",
       "      <td>180.0</td>\n",
       "    </tr>\n",
       "  </tbody>\n",
       "</table>\n",
       "</div>"
      ],
      "text/plain": [
       "   most_popular_products_id  total_value  mean_value_for_order\n",
       "0                       9.0        810.0                  90.0\n",
       "1                      12.0       1080.0                 120.0\n",
       "2                      10.0        800.0                 100.0\n",
       "3                      15.0       1050.0                 150.0\n",
       "4                      18.0       1260.0                 180.0"
      ]
     },
     "execution_count": 10,
     "metadata": {},
     "output_type": "execute_result"
    }
   ],
   "source": [
    "# СТРОИМ ОТЧЕТ\n",
    "report = pd.DataFrame()\n",
    "\n",
    "report['most_popular_products_id'] = orderLines['ProductID'].value_counts().keys()\n",
    "report['total_value'] = orderLines['ProductID'].value_counts().values\n",
    "\n",
    "for i in range(len(report)):\n",
    "    report.total_value.loc[i] *= orderLines.loc[orderLines.ProductID == \n",
    "                                                report.most_popular_products_id.loc[i], 'Price'].values[0]\n",
    "total = []\n",
    "\n",
    "for i in report.most_popular_products_id:\n",
    "    total_p = 0\n",
    "    count = 0\n",
    "    \n",
    "    for j in orderLines.index:\n",
    "        if orderLines.loc[j, 'ProductID'] == i:\n",
    "            order_id = orderLines.loc[j, 'OrderID']\n",
    "            total_p += sum(orderLines.loc[orderLines.OrderID == order_id, 'Price'])\n",
    "            count += 1\n",
    "    total.append(total_p/count)\n",
    "\n",
    "report['mean_value_for_order'] = total\n",
    "\n",
    "report.head()"
   ]
  },
  {
   "cell_type": "code",
   "execution_count": null,
   "metadata": {},
   "outputs": [],
   "source": []
  }
 ],
 "metadata": {
  "kernelspec": {
   "display_name": "Python 3",
   "language": "python",
   "name": "python3"
  },
  "language_info": {
   "codemirror_mode": {
    "name": "ipython",
    "version": 3
   },
   "file_extension": ".py",
   "mimetype": "text/x-python",
   "name": "python",
   "nbconvert_exporter": "python",
   "pygments_lexer": "ipython3",
   "version": "3.7.3"
  }
 },
 "nbformat": 4,
 "nbformat_minor": 2
}
