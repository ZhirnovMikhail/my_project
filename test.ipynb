{
 "cells": [
  {
   "cell_type": "markdown",
   "metadata": {},
   "source": [
    "## Вопрос №1"
   ]
  },
  {
   "cell_type": "code",
   "execution_count": 14,
   "metadata": {},
   "outputs": [],
   "source": [
    "import pandas as pd\n",
    "import numpy as np"
   ]
  },
  {
   "cell_type": "code",
   "execution_count": 15,
   "metadata": {},
   "outputs": [],
   "source": [
    "# ПОСЛЕДНИЙ МЕСЯЦ\n",
    "# 16.06.2019\n",
    "# from datetime import datetime\n",
    "# from dateutil import relativedelta\n",
    "# date1 = datetime.date.today()\n",
    "# orders = pd.read_csv('orders.csv')\n",
    "# orderLines = pd.read_csv('orderLines.csv')\n",
    "# months = []\n",
    "# for i in range(len(orders)):\n",
    "#     date2 = datetime.strptime(str(orders.loc[i, 'DateTime']), '%d.%m.%Y')\n",
    "#     months.append(relativedelta.relativedelta(date2, date1))\n",
    "# orders['months'] = months\n",
    "# orders = orders.loc[orders.months <= 1]\n",
    "# ind = orders.index\n",
    "# orderLines = orderLines.loc[ind]"
   ]
  },
  {
   "cell_type": "markdown",
   "metadata": {},
   "source": [
    "### Искусственные данные ORDERS"
   ]
  },
  {
   "cell_type": "code",
   "execution_count": 16,
   "metadata": {},
   "outputs": [
    {
     "data": {
      "text/html": [
       "<div>\n",
       "<style scoped>\n",
       "    .dataframe tbody tr th:only-of-type {\n",
       "        vertical-align: middle;\n",
       "    }\n",
       "\n",
       "    .dataframe tbody tr th {\n",
       "        vertical-align: top;\n",
       "    }\n",
       "\n",
       "    .dataframe thead th {\n",
       "        text-align: right;\n",
       "    }\n",
       "</style>\n",
       "<table border=\"1\" class=\"dataframe\">\n",
       "  <thead>\n",
       "    <tr style=\"text-align: right;\">\n",
       "      <th></th>\n",
       "      <th>DateTime</th>\n",
       "      <th>CustomerID</th>\n",
       "      <th>OrderID</th>\n",
       "    </tr>\n",
       "  </thead>\n",
       "  <tbody>\n",
       "    <tr>\n",
       "      <th>0</th>\n",
       "      <td>1</td>\n",
       "      <td>14.0</td>\n",
       "      <td>1094.0</td>\n",
       "    </tr>\n",
       "    <tr>\n",
       "      <th>1</th>\n",
       "      <td>2</td>\n",
       "      <td>18.0</td>\n",
       "      <td>7296.0</td>\n",
       "    </tr>\n",
       "    <tr>\n",
       "      <th>2</th>\n",
       "      <td>3</td>\n",
       "      <td>17.0</td>\n",
       "      <td>3616.0</td>\n",
       "    </tr>\n",
       "    <tr>\n",
       "      <th>3</th>\n",
       "      <td>4</td>\n",
       "      <td>19.0</td>\n",
       "      <td>7325.0</td>\n",
       "    </tr>\n",
       "    <tr>\n",
       "      <th>4</th>\n",
       "      <td>5</td>\n",
       "      <td>5.0</td>\n",
       "      <td>3955.0</td>\n",
       "    </tr>\n",
       "  </tbody>\n",
       "</table>\n",
       "</div>"
      ],
      "text/plain": [
       "   DateTime  CustomerID  OrderID\n",
       "0         1        14.0   1094.0\n",
       "1         2        18.0   7296.0\n",
       "2         3        17.0   3616.0\n",
       "3         4        19.0   7325.0\n",
       "4         5         5.0   3955.0"
      ]
     },
     "execution_count": 16,
     "metadata": {},
     "output_type": "execute_result"
    }
   ],
   "source": [
    "# СТРОИМ ПРИМЕРНЫЕ ORDERS\n",
    "orders = pd.DataFrame()\n",
    "orders['DateTime'] = pd.Series(np.arange(100)+1)\n",
    "orders['CustomerID'] = pd.Series(np.round(np.random.rand(100)*20))\n",
    "orders['OrderID'] = pd.Series(np.round(np.random.rand(100)*10000))\n",
    "orders.head()"
   ]
  },
  {
   "cell_type": "markdown",
   "metadata": {},
   "source": [
    "### Искусственные данные ORDERLINES"
   ]
  },
  {
   "cell_type": "code",
   "execution_count": 5,
   "metadata": {},
   "outputs": [
    {
     "data": {
      "text/html": [
       "<div>\n",
       "<style scoped>\n",
       "    .dataframe tbody tr th:only-of-type {\n",
       "        vertical-align: middle;\n",
       "    }\n",
       "\n",
       "    .dataframe tbody tr th {\n",
       "        vertical-align: top;\n",
       "    }\n",
       "\n",
       "    .dataframe thead th {\n",
       "        text-align: right;\n",
       "    }\n",
       "</style>\n",
       "<table border=\"1\" class=\"dataframe\">\n",
       "  <thead>\n",
       "    <tr style=\"text-align: right;\">\n",
       "      <th></th>\n",
       "      <th>OrderID</th>\n",
       "      <th>ProductID</th>\n",
       "      <th>Price</th>\n",
       "    </tr>\n",
       "  </thead>\n",
       "  <tbody>\n",
       "    <tr>\n",
       "      <th>0</th>\n",
       "      <td>2394.0</td>\n",
       "      <td>16.0</td>\n",
       "      <td>160.0</td>\n",
       "    </tr>\n",
       "    <tr>\n",
       "      <th>1</th>\n",
       "      <td>149.0</td>\n",
       "      <td>15.0</td>\n",
       "      <td>150.0</td>\n",
       "    </tr>\n",
       "    <tr>\n",
       "      <th>2</th>\n",
       "      <td>284.0</td>\n",
       "      <td>17.0</td>\n",
       "      <td>170.0</td>\n",
       "    </tr>\n",
       "    <tr>\n",
       "      <th>3</th>\n",
       "      <td>3431.0</td>\n",
       "      <td>6.0</td>\n",
       "      <td>60.0</td>\n",
       "    </tr>\n",
       "    <tr>\n",
       "      <th>4</th>\n",
       "      <td>2493.0</td>\n",
       "      <td>19.0</td>\n",
       "      <td>190.0</td>\n",
       "    </tr>\n",
       "  </tbody>\n",
       "</table>\n",
       "</div>"
      ],
      "text/plain": [
       "   OrderID  ProductID  Price\n",
       "0   2394.0       16.0  160.0\n",
       "1    149.0       15.0  150.0\n",
       "2    284.0       17.0  170.0\n",
       "3   3431.0        6.0   60.0\n",
       "4   2493.0       19.0  190.0"
      ]
     },
     "execution_count": 5,
     "metadata": {},
     "output_type": "execute_result"
    }
   ],
   "source": [
    "# СТРОИМ ПРИМЕРНЫЕ ORDERLINES\n",
    "orderLines = pd.DataFrame()\n",
    "orderLines['OrderID'] = orders['OrderID']\n",
    "orderLines['ProductID'] = pd.Series(np.round(np.random.rand(100)*20))\n",
    "orderLines['Price'] = orderLines['ProductID']*10\n",
    "orderLines.head()"
   ]
  },
  {
   "cell_type": "markdown",
   "metadata": {},
   "source": [
    "### Отчет"
   ]
  },
  {
   "cell_type": "code",
   "execution_count": 17,
   "metadata": {
    "scrolled": true
   },
   "outputs": [
    {
     "data": {
      "text/html": [
       "<div>\n",
       "<style scoped>\n",
       "    .dataframe tbody tr th:only-of-type {\n",
       "        vertical-align: middle;\n",
       "    }\n",
       "\n",
       "    .dataframe tbody tr th {\n",
       "        vertical-align: top;\n",
       "    }\n",
       "\n",
       "    .dataframe thead th {\n",
       "        text-align: right;\n",
       "    }\n",
       "</style>\n",
       "<table border=\"1\" class=\"dataframe\">\n",
       "  <thead>\n",
       "    <tr style=\"text-align: right;\">\n",
       "      <th></th>\n",
       "      <th>most_popular_products_id</th>\n",
       "      <th>total_value</th>\n",
       "      <th>mean_value_for_order</th>\n",
       "    </tr>\n",
       "  </thead>\n",
       "  <tbody>\n",
       "    <tr>\n",
       "      <th>0</th>\n",
       "      <td>9.0</td>\n",
       "      <td>810.0</td>\n",
       "      <td>90.0</td>\n",
       "    </tr>\n",
       "    <tr>\n",
       "      <th>1</th>\n",
       "      <td>12.0</td>\n",
       "      <td>1080.0</td>\n",
       "      <td>120.0</td>\n",
       "    </tr>\n",
       "    <tr>\n",
       "      <th>2</th>\n",
       "      <td>10.0</td>\n",
       "      <td>800.0</td>\n",
       "      <td>100.0</td>\n",
       "    </tr>\n",
       "    <tr>\n",
       "      <th>3</th>\n",
       "      <td>15.0</td>\n",
       "      <td>1050.0</td>\n",
       "      <td>150.0</td>\n",
       "    </tr>\n",
       "    <tr>\n",
       "      <th>4</th>\n",
       "      <td>18.0</td>\n",
       "      <td>1260.0</td>\n",
       "      <td>180.0</td>\n",
       "    </tr>\n",
       "  </tbody>\n",
       "</table>\n",
       "</div>"
      ],
      "text/plain": [
       "   most_popular_products_id  total_value  mean_value_for_order\n",
       "0                       9.0        810.0                  90.0\n",
       "1                      12.0       1080.0                 120.0\n",
       "2                      10.0        800.0                 100.0\n",
       "3                      15.0       1050.0                 150.0\n",
       "4                      18.0       1260.0                 180.0"
      ]
     },
     "execution_count": 17,
     "metadata": {},
     "output_type": "execute_result"
    }
   ],
   "source": [
    "# СТРОИМ ОТЧЕТ\n",
    "report = pd.DataFrame()\n",
    "\n",
    "report['most_popular_products_id'] = orderLines['ProductID'].value_counts().keys()\n",
    "report['total_value'] = orderLines['ProductID'].value_counts().values\n",
    "\n",
    "for i in range(len(report)):\n",
    "    report.total_value.loc[i] *= orderLines.loc[orderLines.ProductID == \n",
    "                                                report.most_popular_products_id.loc[i], 'Price'].values[0]\n",
    "total = []\n",
    "\n",
    "for i in report.most_popular_products_id:\n",
    "    total_p = 0\n",
    "    count = 0\n",
    "    \n",
    "    for j in orderLines.index:\n",
    "        if orderLines.loc[j, 'ProductID'] == i:\n",
    "            order_id = orderLines.loc[j, 'OrderID']\n",
    "            total_p += sum(orderLines.loc[orderLines.OrderID == order_id, 'Price'])\n",
    "            count += 1\n",
    "    total.append(total_p/count)\n",
    "\n",
    "report['mean_value_for_order'] = total\n",
    "\n",
    "report.head()"
   ]
  },
  {
   "cell_type": "markdown",
   "metadata": {},
   "source": [
    "## Вопрос №2"
   ]
  },
  {
   "cell_type": "markdown",
   "metadata": {},
   "source": [
    "1. Целевая переменная (Клиент не совершит покупку более года, начиная с текущего момента; 1 - если да, 0 - если нет)\n",
    "\n",
    "\n",
    "2. Возраст, пол, семейный статус, уровень дохода (если есть), транзакции по карте (если есть), геоданные (если есть), паттерны поведения клиентов, похожих на данного.\n",
    "\n",
    "\n",
    "3. Используя решающее дерево на всех собранных признаках, можно узнать какие условия являются решающими для предсказания оттока, а так же для каждого абонента предсказать целевую переменную. Это можно также сделать оценив веса логистической регрессии(признаки с большим весом имеют большую важность). Вообщем на этом шаге мы строим baseline модель, которая отделяет **важные для нас** признаки.\n",
    "\n",
    "\n",
    "4. Для оценки качества модели мы будем ориентироваться на метрики качества Accuracy, precision, recall, F-мера. $Accuracy=\\frac{TP+TN}{TP+TN+FN+FP}$ особого смысла рассматривать нет, так как она бесполезна в задачах с неравными классами. $ Precision = \\frac{TP}{TP+FP}-$ точность(обладает сопсобностью отличать нек. класс от других классов). $ Recall = \\frac{TP}{TP+FN}-$ полнота(обнаруживает класс вообще). $F-мера-$среднее гармоническое между precision и recall. Их анализ позволит нам оценить качество модели. Также для оценки точности классификации можно использовать $ROC-AUC$ кривую. Чтобы оценить нашу модель на **новых данных** можно использовать кросс-валидацию, для оценки будем брать абонентов, для которых уже известна целевая переменная. Важно брать абонентов из прошлого так, чтобы выборка на которой делается валидация была максимально похожа на ту ситуацию, которую модель должна предсказывать в настоящем.\n",
    "\n",
    "\n",
    "5. Зная значение целевой переменной для текущей базы абонентов, можно как-то мотивировать абонентов с целевой переменной 1 на совершение покупки (акции и т.д). Вообщем предсказав, что клиент не совершит покупку больше года, мы как-то пытаемся повлиять на этого клиента, чтобы не было оттока. Как повлиять, это уже отдельный вопрос. Обычно используют A/B-тестирование для того, чтобы ввести новую фичу на интернет-ресурсе без возможности потери клиентов. (по поведению группы A принимается или отвергается некоторая статистическая гиотеза)"
   ]
  }
 ],
 "metadata": {
  "kernelspec": {
   "display_name": "Python 3",
   "language": "python",
   "name": "python3"
  },
  "language_info": {
   "codemirror_mode": {
    "name": "ipython",
    "version": 3
   },
   "file_extension": ".py",
   "mimetype": "text/x-python",
   "name": "python",
   "nbconvert_exporter": "python",
   "pygments_lexer": "ipython3",
   "version": "3.7.3"
  }
 },
 "nbformat": 4,
 "nbformat_minor": 2
}
